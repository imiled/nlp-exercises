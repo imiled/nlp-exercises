{
 "cells": [
  {
   "cell_type": "markdown",
   "metadata": {
    "Collapsed": "false"
   },
   "source": [
    "# Training a NER System with Transformers on CoNLL\n",
    "\n",
    "Available models:\n",
    "\n",
    "- BERT\n",
    "- RoBERTa\n",
    "- DistilBERT\n",
    "- CamemBERT\n",
    "- XLM-RoBERTa\n",
    "\n"
   ]
  },
  {
   "cell_type": "code",
   "execution_count": null,
   "metadata": {
    "Collapsed": "false"
   },
   "outputs": [],
   "source": [
    "import pandas as pd\n",
    "\n",
    "from simpletransformers.ner.ner_model import NERModel"
   ]
  },
  {
   "cell_type": "markdown",
   "metadata": {
    "Collapsed": "false"
   },
   "source": [
    "## Training a Toy Example"
   ]
  },
  {
   "cell_type": "code",
   "execution_count": null,
   "metadata": {
    "Collapsed": "false"
   },
   "outputs": [],
   "source": [
    "# toy dataset in BIO format\n",
    "train_data = [\n",
    "    [0, \"My\", \"O\"],\n",
    "    [0, \"friend\", \"O\"],\n",
    "    [0, \"Pedro\", \"B-PER\"],\n",
    "    [0, \"works\", \"O\"],\n",
    "    [0, \"in \", \"O\"],\n",
    "    [0, \"the\", \"O\"],\n",
    "    [0, \"European\", \"B-ORG\"],\n",
    "    [0, \"Comission\", \"I-ORG\"],\n",
    "    [0, \".\", \"O\"],\n",
    "    [1, \"Pedro\", \"B-PER\"],\n",
    "    [1, \"was\", \"O\"],\n",
    "    [1, \"born\", \"O\"],\n",
    "    [1, \"in \", \"O\"],\n",
    "    [1, \"Madrid\", \"B-LOC\"],\n",
    "    [1, \".\", \"O\"],\n",
    "    [2, \"Madrid\", \"B-LOC\"],\n",
    "    [2, \"is\", \"O\"],\n",
    "    [2, \"the\", \"O\"],\n",
    "    [2, \"capital\", \"O\"],\n",
    "    [2, \"of\", \"O\"],\n",
    "    [2, \"Spain\", \"B-LOC\"],\n",
    "    [2, \".\", \"O\"],\n",
    "]\n",
    "\n",
    "train_df = pd.DataFrame(train_data, columns=[\"sentence_id\", \"words\", \"labels\"])\n",
    "\n",
    "eval_data = [\n",
    "    [0, \"My\", \"O\"],\n",
    "    [0, \"friend\", \"O\"],\n",
    "    [0, \"Pedro\", \"B-PER\"],\n",
    "    [0, \"works\", \"O\"],\n",
    "    [0, \"in \", \"O\"],\n",
    "    [0, \"the\", \"O\"],\n",
    "    [0, \"European\", \"B-ORG\"],\n",
    "    [0, \"Comission\", \"I-ORG\"],\n",
    "    [0, \".\", \"O\"],\n",
    "    [1, \"I\", \"O\"],\n",
    "    [1, \"was\", \"O\"],\n",
    "    [1, \"born\", \"O\"],\n",
    "    [1, \"in \", \"O\"],\n",
    "    [1, \"Madrid\", \"B-LOC\"],\n",
    "    [1, \".\", \"O\"],\n",
    "]\n",
    "\n",
    "eval_df = pd.DataFrame(eval_data, columns=[\"sentence_id\", \"words\", \"labels\"])"
   ]
  },
  {
   "cell_type": "code",
   "execution_count": null,
   "metadata": {
    "Collapsed": "false"
   },
   "outputs": [],
   "source": [
    "# configuration\n",
    "args = {\n",
    "    \"output_dir\": \"outputs/\",\n",
    "    \"cache_dir\": \"cache_dir/\",\n",
    "    \"fp16\": False,\n",
    "    \"fp16_opt_level\": \"O1\",\n",
    "    \"max_seq_length\": 128,\n",
    "    \"train_batch_size\": 32,\n",
    "    \"gradient_accumulation_steps\": 1,\n",
    "    \"eval_batch_size\": 8,\n",
    "    \"num_train_epochs\": 10,\n",
    "    \"weight_decay\": 0,\n",
    "    \"learning_rate\": 4e-5,\n",
    "    \"adam_epsilon\": 1e-8,\n",
    "    \"warmup_ratio\": 0.06,\n",
    "    \"warmup_steps\": 0,\n",
    "    \"max_grad_norm\": 1.0,\n",
    "    \"logging_steps\": 50,\n",
    "    \"save_steps\": 2000,\n",
    "    \"overwrite_output_dir\": True,\n",
    "    \"reprocess_input_data\": False,\n",
    "    \"evaluate_during_training\": False,\n",
    "    # \"process_count\": cpu_count() - 2 if cpu_count() > 2 else 1,\n",
    "    \"n_gpu\": 1,\n",
    "    \"wandb_project\": \"test-master\",\n",
    "}"
   ]
  },
  {
   "cell_type": "code",
   "execution_count": null,
   "metadata": {
    "Collapsed": "false"
   },
   "outputs": [],
   "source": [
    "# Create a NERModel\n",
    "model = NERModel(\"bert\", \"bert-base-cased\", use_cuda=False, args=args)\n",
    "\n",
    "# Train the model\n",
    "model.train_model(train_df)\n",
    "\n",
    "# Evaluate the model\n",
    "result, model_outputs, predictions = model.eval_model(eval_df)"
   ]
  },
  {
   "cell_type": "code",
   "execution_count": null,
   "metadata": {
    "Collapsed": "false"
   },
   "outputs": [],
   "source": [
    "# Predictions on arbitary text strings\n",
    "predictions, raw_outputs = model.predict([\"I live in Madrid.\"])\n",
    "\n",
    "print(predictions)"
   ]
  },
  {
   "cell_type": "markdown",
   "metadata": {
    "Collapsed": "false"
   },
   "source": [
    "## Training a NER Model on CoNLL"
   ]
  },
  {
   "cell_type": "code",
   "execution_count": null,
   "metadata": {
    "Collapsed": "false"
   },
   "outputs": [],
   "source": [
    "# configuration\n",
    "args = {\n",
    "    \"output_dir\": \"outputs/\",\n",
    "    \"cache_dir\": \"cache_dir/\",\n",
    "    \"fp16\": False,\n",
    "    \"fp16_opt_level\": \"O1\",\n",
    "    \"max_seq_length\": 128,\n",
    "    \"train_batch_size\": 32,\n",
    "    \"gradient_accumulation_steps\": 1,\n",
    "    \"eval_batch_size\": 8,\n",
    "    \"num_train_epochs\": 10,\n",
    "    \"weight_decay\": 0,\n",
    "    \"learning_rate\": 4e-5,\n",
    "    \"adam_epsilon\": 1e-8,\n",
    "    \"warmup_ratio\": 0.06,\n",
    "    \"warmup_steps\": 0,\n",
    "    \"max_grad_norm\": 1.0,\n",
    "    \"logging_steps\": 50,\n",
    "    \"save_steps\": 2000,\n",
    "    \"overwrite_output_dir\": True,\n",
    "    \"reprocess_input_data\": False,\n",
    "    \"evaluate_during_training\": False,\n",
    "    # \"process_count\": cpu_count() - 2 if cpu_count() > 2 else 1,\n",
    "    \"n_gpu\": 1,\n",
    "    \"wandb_project\": \"test-master\",\n",
    "}"
   ]
  },
  {
   "cell_type": "code",
   "execution_count": null,
   "metadata": {
    "Collapsed": "false"
   },
   "outputs": [],
   "source": [
    "# Create a NERModel\n",
    "model = NERModel(\"bert\", \"bert-base-cased\", use_cuda=False, args=args)\n",
    "\n",
    "# Train the model\n",
    "model.train_model(\"../datasets/conll/toy-dataset.txt\")"
   ]
  },
  {
   "cell_type": "code",
   "execution_count": null,
   "metadata": {
    "Collapsed": "false"
   },
   "outputs": [],
   "source": [
    "# Evaluate the model\n",
    "result, model_outputs, predictions = model.eval_model(\"../datasets/conll/test.txt\")"
   ]
  },
  {
   "cell_type": "code",
   "execution_count": null,
   "metadata": {
    "Collapsed": "false"
   },
   "outputs": [],
   "source": [
    "# Check predictions\n",
    "print(predictions[:5])"
   ]
  },
  {
   "cell_type": "code",
   "execution_count": null,
   "metadata": {
    "Collapsed": "false"
   },
   "outputs": [],
   "source": [
    "model.predict([\"Peter works in the European Commision.\"])"
   ]
  },
  {
   "cell_type": "markdown",
   "metadata": {
    "Collapsed": "false"
   },
   "source": [
    "## Load a Model after Training"
   ]
  },
  {
   "cell_type": "code",
   "execution_count": null,
   "metadata": {
    "Collapsed": "false"
   },
   "outputs": [],
   "source": [
    "model = NERModel(\"bert\", \"outputs/\", use_cuda=False, args={})"
   ]
  },
  {
   "cell_type": "code",
   "execution_count": null,
   "metadata": {
    "Collapsed": "false"
   },
   "outputs": [],
   "source": [
    "model.predict([\"Pedro lives in Madrid.\"])"
   ]
  },
  {
   "cell_type": "markdown",
   "metadata": {
    "Collapsed": "false"
   },
   "source": [
    "## A Quick Demo\n",
    "\n",
    "We can create magic cells in Notebooks using IPython magic commands."
   ]
  },
  {
   "cell_type": "code",
   "execution_count": null,
   "metadata": {
    "Collapsed": "false"
   },
   "outputs": [],
   "source": [
    "def load_model(\n",
    "    model_architecture: str, directory: str = \"outputs/\", use_cuda: bool = False, **kwargs\n",
    "):\n",
    "    \"\"\"Loads a pre-trained model\"\"\"\n",
    "    model = NERModel(model_architecture, directory, use_cuda=use_cuda, args=kwargs)\n",
    "    return model"
   ]
  },
  {
   "cell_type": "code",
   "execution_count": null,
   "metadata": {
    "Collapsed": "false"
   },
   "outputs": [],
   "source": [
    "model = load_model(\"bert\")"
   ]
  },
  {
   "cell_type": "code",
   "execution_count": null,
   "metadata": {
    "Collapsed": "false"
   },
   "outputs": [],
   "source": [
    "from IPython.core.magic import register_cell_magic\n",
    "\n",
    "@register_cell_magic\n",
    "def ner(line, text):\n",
    "    \"\"\"Prints predictons of a NER model\"\"\"\n",
    "    predictions, raw_outputs = model.predict([text])\n",
    "    return predictions[0]"
   ]
  },
  {
   "cell_type": "code",
   "execution_count": null,
   "metadata": {
    "Collapsed": "false"
   },
   "outputs": [],
   "source": [
    "%%ner\n",
    "Pedro lives in Madrid."
   ]
  }
 ],
 "metadata": {
  "kernelspec": {
   "display_name": "Python 3",
   "language": "python",
   "name": "python3"
  },
  "language_info": {
   "codemirror_mode": {
    "name": "ipython",
    "version": 3
   },
   "file_extension": ".py",
   "mimetype": "text/x-python",
   "name": "python",
   "nbconvert_exporter": "python",
   "pygments_lexer": "ipython3",
   "version": "3.7.6"
  }
 },
 "nbformat": 4,
 "nbformat_minor": 4
}
