{
 "cells": [
  {
   "cell_type": "markdown",
   "metadata": {
    "Collapsed": "false"
   },
   "source": [
    "# Analyzing a Twitter Collection\n",
    "\n",
    "The goal of the notebook is to leverage pre-trained NLP models and tools (eg. [textblob](https://textblob.readthedocs.io/en/dev/), [flair](https://github.com/flairNLP/flair), [spaCy](https://spacy.io/), [transformers pipelines](https://github.com/huggingface/transformers#quick-tour-of-pipelines), etc) to analyze real world natural language texts in English of two different varieties: on one hand, Twitter messages, supposed to contain informal samples of language; on the other hand, journal headlines, supposed to show formal uses of language.\n",
    "\n",
    "It's an open goal exercise, but there are some tasks you can attempt:\n",
    "\n",
    "- extract named entities\n",
    "- extract noun chunks\n",
    "- identify qualities of entities and actions\n",
    "- analyze sentiments of texts\n",
    "- associate sentiment and named entities\n",
    "- extract facts: WHAT happened? WHO did WHAT to WHOM?"
   ]
  },
  {
   "cell_type": "markdown",
   "metadata": {
    "Collapsed": "false"
   },
   "source": [
    "## Twitter Messages"
   ]
  },
  {
   "cell_type": "code",
   "execution_count": 10,
   "metadata": {
    "Collapsed": "false"
   },
   "outputs": [],
   "source": [
    "import numpy as np\n",
    "import pandas as pd"
   ]
  },
  {
   "cell_type": "code",
   "execution_count": 22,
   "metadata": {
    "Collapsed": "false"
   },
   "outputs": [
    {
     "data": {
      "text/html": [
       "<div>\n",
       "<style scoped>\n",
       "    .dataframe tbody tr th:only-of-type {\n",
       "        vertical-align: middle;\n",
       "    }\n",
       "\n",
       "    .dataframe tbody tr th {\n",
       "        vertical-align: top;\n",
       "    }\n",
       "\n",
       "    .dataframe thead th {\n",
       "        text-align: right;\n",
       "    }\n",
       "</style>\n",
       "<table border=\"1\" class=\"dataframe\">\n",
       "  <thead>\n",
       "    <tr style=\"text-align: right;\">\n",
       "      <th></th>\n",
       "      <th>tweet_id</th>\n",
       "      <th>datetime</th>\n",
       "      <th>user_id</th>\n",
       "      <th>text</th>\n",
       "    </tr>\n",
       "  </thead>\n",
       "  <tbody>\n",
       "    <tr>\n",
       "      <th>0</th>\n",
       "      <td>828319872929112064</td>\n",
       "      <td>2017-02-05 19:10:21</td>\n",
       "      <td>ashhar_1</td>\n",
       "      <td>RT @BBCWorld: Astronauts attempt an out-of-thi...</td>\n",
       "    </tr>\n",
       "    <tr>\n",
       "      <th>1</th>\n",
       "      <td>https://t.co/bHxzttGXUR #SuperBowl2017 https://…</td>\n",
       "      <td>NaN</td>\n",
       "      <td>NaN</td>\n",
       "      <td>NaN</td>\n",
       "    </tr>\n",
       "    <tr>\n",
       "      <th>2</th>\n",
       "      <td>828319872245432320</td>\n",
       "      <td>2017-02-05 19:10:21</td>\n",
       "      <td>RNRMontana</td>\n",
       "      <td>RT @theoptionoracle: Retweet if you think the ...</td>\n",
       "    </tr>\n",
       "    <tr>\n",
       "      <th>3</th>\n",
       "      <td>#BoycottNFL #ladygaga #SuperBowl  Halftime Show.</td>\n",
       "      <td>NaN</td>\n",
       "      <td>NaN</td>\n",
       "      <td>NaN</td>\n",
       "    </tr>\n",
       "    <tr>\n",
       "      <th>4</th>\n",
       "      <td>@AppSame #MAGA…</td>\n",
       "      <td>NaN</td>\n",
       "      <td>NaN</td>\n",
       "      <td>NaN</td>\n",
       "    </tr>\n",
       "    <tr>\n",
       "      <th>5</th>\n",
       "      <td>828319872060944384</td>\n",
       "      <td>2017-02-05 19:10:21</td>\n",
       "      <td>DerksFighter</td>\n",
       "      <td>RT @JODYHiGHROLLER: $100 FREE SUPERBOWL GiVE A...</td>\n",
       "    </tr>\n",
       "    <tr>\n",
       "      <th>6</th>\n",
       "      <td>$50 iN FREE DELiVERY OF ALL SNACKS &amp;amp; ALCOH...</td>\n",
       "      <td>NaN</td>\n",
       "      <td>NaN</td>\n",
       "      <td>NaN</td>\n",
       "    </tr>\n",
       "    <tr>\n",
       "      <th>7</th>\n",
       "      <td>$50 iN FREE LYFT RiDES…</td>\n",
       "      <td>NaN</td>\n",
       "      <td>NaN</td>\n",
       "      <td>NaN</td>\n",
       "    </tr>\n",
       "    <tr>\n",
       "      <th>8</th>\n",
       "      <td>828319872010563588</td>\n",
       "      <td>2017-02-05 19:10:21</td>\n",
       "      <td>FamCat</td>\n",
       "      <td>RT @TheBaxterBean: TRUMP'S AMERIKKKA: Texas hi...</td>\n",
       "    </tr>\n",
       "    <tr>\n",
       "      <th>9</th>\n",
       "      <td>828319871784120321</td>\n",
       "      <td>2017-02-05 19:10:21</td>\n",
       "      <td>Sydney10005</td>\n",
       "      <td>@DaRealWillPower are you ready for the superbo...</td>\n",
       "    </tr>\n",
       "  </tbody>\n",
       "</table>\n",
       "</div>"
      ],
      "text/plain": [
       "                                            tweet_id             datetime  \\\n",
       "0                                 828319872929112064  2017-02-05 19:10:21   \n",
       "1   https://t.co/bHxzttGXUR #SuperBowl2017 https://…                  NaN   \n",
       "2                                 828319872245432320  2017-02-05 19:10:21   \n",
       "3   #BoycottNFL #ladygaga #SuperBowl  Halftime Show.                  NaN   \n",
       "4                                    @AppSame #MAGA…                  NaN   \n",
       "5                                 828319872060944384  2017-02-05 19:10:21   \n",
       "6  $50 iN FREE DELiVERY OF ALL SNACKS &amp; ALCOH...                  NaN   \n",
       "7                            $50 iN FREE LYFT RiDES…                  NaN   \n",
       "8                                 828319872010563588  2017-02-05 19:10:21   \n",
       "9                                 828319871784120321  2017-02-05 19:10:21   \n",
       "\n",
       "        user_id                                               text  \n",
       "0      ashhar_1  RT @BBCWorld: Astronauts attempt an out-of-thi...  \n",
       "1           NaN                                                NaN  \n",
       "2    RNRMontana  RT @theoptionoracle: Retweet if you think the ...  \n",
       "3           NaN                                                NaN  \n",
       "4           NaN                                                NaN  \n",
       "5  DerksFighter  RT @JODYHiGHROLLER: $100 FREE SUPERBOWL GiVE A...  \n",
       "6           NaN                                                NaN  \n",
       "7           NaN                                                NaN  \n",
       "8        FamCat  RT @TheBaxterBean: TRUMP'S AMERIKKKA: Texas hi...  \n",
       "9   Sydney10005  @DaRealWillPower are you ready for the superbo...  "
      ]
     },
     "execution_count": 22,
     "metadata": {},
     "output_type": "execute_result"
    }
   ],
   "source": [
    "tweets = pd.read_csv(\"../datasets/superbowl/tweets-superbowl.tsv\", sep=\"\\t\", dtype=str)\n",
    "tweets.head(10)"
   ]
  },
  {
   "cell_type": "code",
   "execution_count": 23,
   "metadata": {
    "Collapsed": "false"
   },
   "outputs": [
    {
     "name": "stdout",
     "output_type": "stream",
     "text": [
      "49881\n"
     ]
    }
   ],
   "source": [
    "texts = [t for t in list(tweets[\"text\"]) if isinstance(t, str)]\n",
    "print(len(texts))"
   ]
  },
  {
   "cell_type": "markdown",
   "metadata": {
    "Collapsed": "false"
   },
   "source": [
    "## News Headlines\n",
    "\n",
    "AGNews is a collection of news categorized under 4 distinc categories:\n",
    "\n",
    "- World\n",
    "- Sports\n",
    "- Business\n",
    "- Sci/Tech\n",
    "\n",
    "Here, we're only interested in the text contents: the headline and the first paragraph."
   ]
  },
  {
   "cell_type": "code",
   "execution_count": 28,
   "metadata": {
    "Collapsed": "false"
   },
   "outputs": [
    {
     "data": {
      "text/html": [
       "<div>\n",
       "<style scoped>\n",
       "    .dataframe tbody tr th:only-of-type {\n",
       "        vertical-align: middle;\n",
       "    }\n",
       "\n",
       "    .dataframe tbody tr th {\n",
       "        vertical-align: top;\n",
       "    }\n",
       "\n",
       "    .dataframe thead th {\n",
       "        text-align: right;\n",
       "    }\n",
       "</style>\n",
       "<table border=\"1\" class=\"dataframe\">\n",
       "  <thead>\n",
       "    <tr style=\"text-align: right;\">\n",
       "      <th></th>\n",
       "      <th>category</th>\n",
       "      <th>headline</th>\n",
       "      <th>text</th>\n",
       "    </tr>\n",
       "  </thead>\n",
       "  <tbody>\n",
       "    <tr>\n",
       "      <th>0</th>\n",
       "      <td>3</td>\n",
       "      <td>Wall St. Bears Claw Back Into the Black (Reuters)</td>\n",
       "      <td>Reuters - Short-sellers, Wall Street's dwindli...</td>\n",
       "    </tr>\n",
       "    <tr>\n",
       "      <th>1</th>\n",
       "      <td>3</td>\n",
       "      <td>Carlyle Looks Toward Commercial Aerospace (Reu...</td>\n",
       "      <td>Reuters - Private investment firm Carlyle Grou...</td>\n",
       "    </tr>\n",
       "    <tr>\n",
       "      <th>2</th>\n",
       "      <td>3</td>\n",
       "      <td>Oil and Economy Cloud Stocks' Outlook (Reuters)</td>\n",
       "      <td>Reuters - Soaring crude prices plus worries\\ab...</td>\n",
       "    </tr>\n",
       "    <tr>\n",
       "      <th>3</th>\n",
       "      <td>3</td>\n",
       "      <td>Iraq Halts Oil Exports from Main Southern Pipe...</td>\n",
       "      <td>Reuters - Authorities have halted oil export\\f...</td>\n",
       "    </tr>\n",
       "    <tr>\n",
       "      <th>4</th>\n",
       "      <td>3</td>\n",
       "      <td>Oil prices soar to all-time record, posing new...</td>\n",
       "      <td>AFP - Tearaway world oil prices, toppling reco...</td>\n",
       "    </tr>\n",
       "    <tr>\n",
       "      <th>5</th>\n",
       "      <td>3</td>\n",
       "      <td>Stocks End Up, But Near Year Lows (Reuters)</td>\n",
       "      <td>Reuters - Stocks ended slightly higher on Frid...</td>\n",
       "    </tr>\n",
       "    <tr>\n",
       "      <th>6</th>\n",
       "      <td>3</td>\n",
       "      <td>Money Funds Fell in Latest Week (AP)</td>\n",
       "      <td>AP - Assets of the nation's retail money marke...</td>\n",
       "    </tr>\n",
       "    <tr>\n",
       "      <th>7</th>\n",
       "      <td>3</td>\n",
       "      <td>Fed minutes show dissent over inflation (USATO...</td>\n",
       "      <td>USATODAY.com - Retail sales bounced back a bit...</td>\n",
       "    </tr>\n",
       "    <tr>\n",
       "      <th>8</th>\n",
       "      <td>3</td>\n",
       "      <td>Safety Net (Forbes.com)</td>\n",
       "      <td>Forbes.com - After earning a PH.D. in Sociolog...</td>\n",
       "    </tr>\n",
       "    <tr>\n",
       "      <th>9</th>\n",
       "      <td>3</td>\n",
       "      <td>Wall St. Bears Claw Back Into the Black</td>\n",
       "      <td>NEW YORK (Reuters) - Short-sellers, Wall Stre...</td>\n",
       "    </tr>\n",
       "  </tbody>\n",
       "</table>\n",
       "</div>"
      ],
      "text/plain": [
       "  category                                           headline  \\\n",
       "0        3  Wall St. Bears Claw Back Into the Black (Reuters)   \n",
       "1        3  Carlyle Looks Toward Commercial Aerospace (Reu...   \n",
       "2        3    Oil and Economy Cloud Stocks' Outlook (Reuters)   \n",
       "3        3  Iraq Halts Oil Exports from Main Southern Pipe...   \n",
       "4        3  Oil prices soar to all-time record, posing new...   \n",
       "5        3        Stocks End Up, But Near Year Lows (Reuters)   \n",
       "6        3               Money Funds Fell in Latest Week (AP)   \n",
       "7        3  Fed minutes show dissent over inflation (USATO...   \n",
       "8        3                            Safety Net (Forbes.com)   \n",
       "9        3            Wall St. Bears Claw Back Into the Black   \n",
       "\n",
       "                                                text  \n",
       "0  Reuters - Short-sellers, Wall Street's dwindli...  \n",
       "1  Reuters - Private investment firm Carlyle Grou...  \n",
       "2  Reuters - Soaring crude prices plus worries\\ab...  \n",
       "3  Reuters - Authorities have halted oil export\\f...  \n",
       "4  AFP - Tearaway world oil prices, toppling reco...  \n",
       "5  Reuters - Stocks ended slightly higher on Frid...  \n",
       "6  AP - Assets of the nation's retail money marke...  \n",
       "7  USATODAY.com - Retail sales bounced back a bit...  \n",
       "8  Forbes.com - After earning a PH.D. in Sociolog...  \n",
       "9   NEW YORK (Reuters) - Short-sellers, Wall Stre...  "
      ]
     },
     "execution_count": 28,
     "metadata": {},
     "output_type": "execute_result"
    }
   ],
   "source": [
    "news = pd.read_csv(\"../datasets/agnews/train.csv\", dtype=str, header=None)\n",
    "news.columns = \"category headline text\".split()\n",
    "news.head(10)"
   ]
  }
 ],
 "metadata": {
  "kernelspec": {
   "display_name": "Python 3",
   "language": "python",
   "name": "python3"
  },
  "language_info": {
   "codemirror_mode": {
    "name": "ipython",
    "version": 3
   },
   "file_extension": ".py",
   "mimetype": "text/x-python",
   "name": "python",
   "nbconvert_exporter": "python",
   "pygments_lexer": "ipython3",
   "version": "3.7.6"
  }
 },
 "nbformat": 4,
 "nbformat_minor": 4
}
