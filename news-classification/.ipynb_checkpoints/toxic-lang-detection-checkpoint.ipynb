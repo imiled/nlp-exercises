{
 "cells": [
  {
   "cell_type": "markdown",
   "metadata": {
    "Collapsed": "false"
   },
   "source": [
    "# Toxic Language Detection on Jigsaw Dataset"
   ]
  },
  {
   "cell_type": "code",
   "execution_count": null,
   "metadata": {
    "Collapsed": "false"
   },
   "outputs": [],
   "source": [
    "import pandas as pd\n",
    "from simpletransformers.classification import ClassificationModel"
   ]
  },
  {
   "cell_type": "code",
   "execution_count": null,
   "metadata": {
    "Collapsed": "false"
   },
   "outputs": [],
   "source": [
    "# Train and Evaluation data needs to be in a Pandas Dataframe containing at least two columns.\n",
    "# If the Dataframe has a header, it should contain a 'text' and a 'labels' column.\n",
    "# If no header is present, the Dataframe should contain at least two columns,\n",
    "# with the first column is the text with type str, and the second column in the label\n",
    "# with type int.\n",
    "train_data = [\n",
    "    [\"Example sentence belonging to class 1\", 1],\n",
    "    [\"Example sentence belonging to class 0\", 0],\n",
    "    [\"Example eval senntence belonging to class 2\", 2],\n",
    "]\n",
    "train_df = pd.DataFrame(train_data)\n",
    "\n",
    "eval_data = [\n",
    "    [\"Example eval sentence belonging to class 1\", 1],\n",
    "    [\"Example eval sentence belonging to class 0\", 0],\n",
    "    [\"Example eval senntence belonging to class 2\", 2],\n",
    "]\n",
    "eval_df = pd.DataFrame(eval_data)"
   ]
  },
  {
   "cell_type": "code",
   "execution_count": null,
   "metadata": {
    "Collapsed": "false"
   },
   "outputs": [],
   "source": [
    "# configuration\n",
    "args = {\n",
    "    \"output_dir\": \"outputs/\",\n",
    "    \"cache_dir\": \"cache_dir/\",\n",
    "    \"fp16\": False,\n",
    "    \"fp16_opt_level\": \"O1\",\n",
    "    \"max_seq_length\": 128,\n",
    "    \"train_batch_size\": 32,\n",
    "    \"gradient_accumulation_steps\": 1,\n",
    "    \"eval_batch_size\": 8,\n",
    "    \"num_train_epochs\": 1,\n",
    "    \"weight_decay\": 0,\n",
    "    \"learning_rate\": 4e-5,\n",
    "    \"adam_epsilon\": 1e-8,\n",
    "    \"warmup_ratio\": 0.06,\n",
    "    \"warmup_steps\": 0,\n",
    "    \"max_grad_norm\": 1.0,\n",
    "    \"logging_steps\": 50,\n",
    "    \"save_steps\": 2000,\n",
    "    \"overwrite_output_dir\": True,\n",
    "    \"reprocess_input_data\": False,\n",
    "    \"evaluate_during_training\": False,\n",
    "    # \"process_count\": cpu_count() - 2 if cpu_count() > 2 else 1,\n",
    "    \"n_gpu\": 1,\n",
    "}"
   ]
  },
  {
   "cell_type": "code",
   "execution_count": null,
   "metadata": {
    "Collapsed": "false"
   },
   "outputs": [],
   "source": [
    "# Create a ClassificationModel\n",
    "model = ClassificationModel(\"bert\", \"bert-base-cased\", num_labels=3, args=args)\n",
    "\n",
    "# Train the model\n",
    "model.train_model(train_df)"
   ]
  },
  {
   "cell_type": "code",
   "execution_count": null,
   "metadata": {
    "Collapsed": "false"
   },
   "outputs": [],
   "source": [
    "# Evaluate the model\n",
    "result, model_outputs, wrong_predictions = model.eval_model(eval_df)\n",
    "\n",
    "predictions, raw_outputs = model.predict([\"Some arbitary sentence\"])"
   ]
  }
 ],
 "metadata": {
  "kernelspec": {
   "display_name": "Python 3",
   "language": "python",
   "name": "python3"
  },
  "language_info": {
   "codemirror_mode": {
    "name": "ipython",
    "version": 3
   },
   "file_extension": ".py",
   "mimetype": "text/x-python",
   "name": "python",
   "nbconvert_exporter": "python",
   "pygments_lexer": "ipython3",
   "version": "3.7.6"
  }
 },
 "nbformat": 4,
 "nbformat_minor": 4
}
